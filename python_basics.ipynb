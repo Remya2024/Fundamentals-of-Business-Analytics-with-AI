{
  "nbformat": 4,
  "nbformat_minor": 0,
  "metadata": {
    "colab": {
      "provenance": []
    },
    "kernelspec": {
      "name": "python3",
      "display_name": "Python 3"
    },
    "language_info": {
      "name": "python"
    }
  },
  "cells": [
    {
      "cell_type": "markdown",
      "source": [
        "# **Basics**"
      ],
      "metadata": {
        "id": "-tBoEfht_KJX"
      }
    },
    {
      "cell_type": "code",
      "source": [
        "# prompt: Find datatype of the following variables, by mentioning the variable name along with it:\n",
        "# Name =\"Shagun\"\n",
        "# Roll_Number = 7\n",
        "# Height = 165.5\n",
        "# Passed = True\n",
        "# Suffering_from_any_disease = None\n",
        "# Favorite_Fruits = [\"Mango\", \"Apple\", \"Banana\", \"Papaya\"]\n",
        "# Permanent_Address =(\"Kannur\" , \"Kerala\" , 670654)\n",
        "# Subject_marks = {\"Maths\" : 93, \"Science\" : 89}\n",
        "# Parent_s_Name ={\"Sardeep\",\"Sakshi\"}\n",
        "\n",
        "Name =\"Shagun\"\n",
        "Roll_Number = 7\n",
        "Height = 165.5\n",
        "Passed = True\n",
        "Suffering_from_any_disease = None\n",
        "Favorite_Fruits = [\"Mango\", \"Apple\", \"Banana\", \"Papaya\"]\n",
        "Permanent_Address =(\"Kannur\" , \"Kerala\" , 670654)\n",
        "Subject_marks = {\"Maths\" : 93, \"Science\" : 89}\n",
        "Parent_s_Name ={\"Sardeep\",\"Sakshi\"}\n",
        "\n",
        "print(type(Name), \"Name\") # <class 'str'> Name\n",
        "print(type(Roll_Number), \"Roll_Number\") # <class 'int'> Roll_Number\n",
        "print(type(Height), \"Height\") # <class 'float'> Height\n",
        "print(type(Passed), \"Passed\") # <class 'bool'> Passed\n",
        "print(type(Suffering_from_any_disease), \"Suffering_from_any_disease\") # <class 'NoneType'> Suffering_from_any_disease\n",
        "print(type(Favorite_Fruits), \"Favorite_Fruits\") # <class 'list'> Favorite_Fruits\n",
        "print(type(Permanent_Address), \"Permanent_Address\") # <class 'tuple'> Permanent_Address\n",
        "print(type(Subject_marks), \"Subject_marks\") # <class 'dict'> Subject_marks\n",
        "print(type(Parent_s_Name), \"Parent_s_Name\") # <class 'set'> Parent_s_Name\n"
      ],
      "metadata": {
        "colab": {
          "base_uri": "https://localhost:8080/"
        },
        "id": "artFUjs4_ISG",
        "outputId": "36a883bc-99de-48f7-be57-b67ac02109c3"
      },
      "execution_count": null,
      "outputs": [
        {
          "output_type": "stream",
          "name": "stdout",
          "text": [
            "<class 'str'> Name\n",
            "<class 'int'> Roll_Number\n",
            "<class 'float'> Height\n",
            "<class 'bool'> Passed\n",
            "<class 'NoneType'> Suffering_from_any_disease\n",
            "<class 'list'> Favorite_Fruits\n",
            "<class 'tuple'> Permanent_Address\n",
            "<class 'dict'> Subject_marks\n",
            "<class 'set'> Parent_s_Name\n"
          ]
        }
      ]
    },
    {
      "cell_type": "code",
      "source": [
        "type(Parent_s_Name)"
      ],
      "metadata": {
        "colab": {
          "base_uri": "https://localhost:8080/"
        },
        "id": "0lfxPI1t_bbr",
        "outputId": "27b86a31-ce64-412c-90ee-61d09eeda87f"
      },
      "execution_count": null,
      "outputs": [
        {
          "output_type": "execute_result",
          "data": {
            "text/plain": [
              "set"
            ]
          },
          "metadata": {},
          "execution_count": 8
        }
      ]
    },
    {
      "cell_type": "code",
      "source": [
        "# prompt: create a program to calculate the area of a rectangle using variables, literal and operators\n",
        "\n",
        "# Taking length and breadth as input\n",
        "length = float(input(\"Enter the length of the rectangle: \"))\n",
        "breadth = float(input(\"Enter the breadth of the rectangle: \"))\n",
        "\n",
        "# Calculating the area\n",
        "area = length * breadth\n",
        "\n",
        "# Displaying the area\n",
        "print(\"The area of the rectangle is:\", area)\n"
      ],
      "metadata": {
        "colab": {
          "base_uri": "https://localhost:8080/"
        },
        "id": "EAjActiSBccg",
        "outputId": "dca5fe2e-24ea-413b-f2d0-eddb88076110"
      },
      "execution_count": null,
      "outputs": [
        {
          "output_type": "stream",
          "name": "stdout",
          "text": [
            "Enter the length of the rectangle: 6\n",
            "Enter the breadth of the rectangle: 9\n",
            "The area of the rectangle is: 54.0\n"
          ]
        }
      ]
    },
    {
      "cell_type": "code",
      "source": [
        "# prompt: create a multiplication table of 12 using keywords\n",
        "\n",
        "# Multiplication table of 12\n",
        "num = 1289\n",
        "\n",
        "# Iterate 10 times from i = 1 to 10\n",
        "for i in range(1, 11):\n",
        "   print(num, 'x', i, '=', num*i)\n"
      ],
      "metadata": {
        "colab": {
          "base_uri": "https://localhost:8080/"
        },
        "id": "dctZuYdSCRoO",
        "outputId": "7ca1dda5-9fbf-4231-c01a-af52fcf1592f"
      },
      "execution_count": null,
      "outputs": [
        {
          "output_type": "stream",
          "name": "stdout",
          "text": [
            "1289 x 1 = 1289\n",
            "1289 x 2 = 2578\n",
            "1289 x 3 = 3867\n",
            "1289 x 4 = 5156\n",
            "1289 x 5 = 6445\n",
            "1289 x 6 = 7734\n",
            "1289 x 7 = 9023\n",
            "1289 x 8 = 10312\n",
            "1289 x 9 = 11601\n",
            "1289 x 10 = 12890\n"
          ]
        }
      ]
    },
    {
      "cell_type": "code",
      "source": [
        "# prompt: create a simple calculator using keywords and appropriate input function\n",
        "\n",
        "def calculator():\n",
        "  \"\"\"\n",
        "  This is a simple calculator that performs basic arithmetic operations.\n",
        "  \"\"\"\n",
        "  print(\"Select operation:\")\n",
        "  print(\"1. Add\")\n",
        "  print(\"2. Subtract\")\n",
        "  print(\"3. Multiply\")\n",
        "  print(\"4. Divide\")\n",
        "\n",
        "  choice = input(\"Enter choice(1/2/3/4): \")\n",
        "\n",
        "  num1 = float(input(\"Enter first number: \"))\n",
        "  num2 = float(input(\"Enter second number: \"))\n",
        "\n",
        "  if choice == '1':\n",
        "    print(num1, \"+\", num2, \"=\", num1 + num2)\n",
        "  elif choice == '2':\n",
        "    print(num1, \"-\", num2, \"=\", num1 - num2)\n",
        "  elif choice == '3':\n",
        "    print(num1, \"*\", num2, \"=\", num1 * num2)\n",
        "  elif choice == '4':\n",
        "    if num2 == 0:\n",
        "      print(\"Division by zero is not allowed.\")\n",
        "    else:\n",
        "      print(num1, \"/\", num2, \"=\", num1 / num2)\n",
        "  else:\n",
        "    print(\"Invalid Input\")\n",
        "\n",
        "calculator()\n"
      ],
      "metadata": {
        "colab": {
          "base_uri": "https://localhost:8080/"
        },
        "id": "cweSTMMGC6Uw",
        "outputId": "07571ef9-5d1b-4d83-a523-22f6b9cc6694"
      },
      "execution_count": null,
      "outputs": [
        {
          "output_type": "stream",
          "name": "stdout",
          "text": [
            "Select operation:\n",
            "1. Add\n",
            "2. Subtract\n",
            "3. Multiply\n",
            "4. Divide\n",
            "Enter choice(1/2/3/4): 4\n",
            "Enter first number: 6\n",
            "Enter second number: 3\n",
            "6.0 / 3.0 = 2.0\n"
          ]
        }
      ]
    },
    {
      "cell_type": "code",
      "source": [
        "# prompt: create a user defined function to find square root of a number\n",
        "\n",
        "def find_sqrt(num):\n",
        "  \"\"\"\n",
        "  This function calculates the square root of a given number.\n",
        "\n",
        "  Args:\n",
        "    num: The number to find the square root of.\n",
        "\n",
        "  Returns:\n",
        "    The square root of the number.\n",
        "  \"\"\"\n",
        "  return num ** 0.5\n",
        "\n",
        "# Get input from the user\n",
        "num = float(input(\"Enter a number: \"))\n",
        "\n",
        "# Calculate the square root\n",
        "sqrt = find_sqrt(num)\n",
        "\n",
        "# Print the result\n",
        "print(\"The square root of\", num, \"is\", sqrt)\n"
      ],
      "metadata": {
        "colab": {
          "base_uri": "https://localhost:8080/"
        },
        "id": "FEtmic_2DT_o",
        "outputId": "ec677775-202a-427c-f1db-3cc107bfe627"
      },
      "execution_count": null,
      "outputs": [
        {
          "output_type": "stream",
          "name": "stdout",
          "text": [
            "Enter a number: 81\n",
            "The square root of 81.0 is 9.0\n"
          ]
        }
      ]
    }
  ]
}